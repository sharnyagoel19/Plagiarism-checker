{
  "nbformat": 4,
  "nbformat_minor": 0,
  "metadata": {
    "colab": {
      "provenance": [],
      "authorship_tag": "ABX9TyOW6xZk7ttBz8oSalzIAeM+",
      "include_colab_link": true
    },
    "kernelspec": {
      "name": "python3",
      "display_name": "Python 3"
    },
    "language_info": {
      "name": "python"
    }
  },
  "cells": [
    {
      "cell_type": "markdown",
      "metadata": {
        "id": "view-in-github",
        "colab_type": "text"
      },
      "source": [
        "<a href=\"https://colab.research.google.com/github/sharnyagoel19/Plagiarism-checker/blob/main/plagiarism_detection.ipynb\" target=\"_parent\"><img src=\"https://colab.research.google.com/assets/colab-badge.svg\" alt=\"Open In Colab\"/></a>"
      ]
    },
    {
      "cell_type": "code",
      "execution_count": 1,
      "metadata": {
        "id": "y-gxnBIaSeOr"
      },
      "outputs": [],
      "source": [
        "import os\n",
        "from sklearn.feature_extraction.text import TfidfVectorizer\n",
        "from sklearn.metrics.pairwise import cosine_similarity"
      ]
    },
    {
      "cell_type": "code",
      "source": [
        "student_files = [doc for doc in os.listdir() if doc.endswith('.txt')]"
      ],
      "metadata": {
        "id": "No3YRWtATLL7"
      },
      "execution_count": 2,
      "outputs": []
    },
    {
      "cell_type": "code",
      "source": [
        "student_notes = [open(_file, encoding= 'utf-8').read() for _file in student_files]"
      ],
      "metadata": {
        "id": "4yJy3h_LTak_"
      },
      "execution_count": 3,
      "outputs": []
    },
    {
      "cell_type": "code",
      "source": [
        "def vectorize(text):\n",
        "  return TfidfVectorizer().fit_transform(text).toarray()"
      ],
      "metadata": {
        "id": "Kl-KG36dTzNM"
      },
      "execution_count": 5,
      "outputs": []
    },
    {
      "cell_type": "code",
      "source": [
        "def similarity(document1, document2):\n",
        "  return cosine_similarity([document1, document2])"
      ],
      "metadata": {
        "id": "360fCFErUDnH"
      },
      "execution_count": 6,
      "outputs": []
    },
    {
      "cell_type": "code",
      "source": [
        "vectors = vectorize(student_notes)\n",
        "s_vector = list(zip(student_files, vectors))\n",
        "plagiarism_results = set()"
      ],
      "metadata": {
        "id": "cfIcYCg3WZal"
      },
      "execution_count": 7,
      "outputs": []
    },
    {
      "cell_type": "code",
      "source": [
        "def check_plagiarism():\n",
        "  global s_vector\n",
        "  for student_1, text_vector_1 in s_vector:\n",
        "    for student_2, text_vector_2 in s_vector:\n",
        "      if student_1 == student_2:\n",
        "        continue\n",
        "      sim_score = similarity(text_vector_1, text_vector_2)\n",
        "      student_pair = sorted((student_1, student_2))\n",
        "      score = (student_pair[0], student_pair[1],tuple(sim_score[0]))\n",
        "      plagiarism_results.add(score)\n",
        "  return plagiarism_results\n"
      ],
      "metadata": {
        "id": "CA4UtMArXd6u"
      },
      "execution_count": 8,
      "outputs": []
    },
    {
      "cell_type": "code",
      "source": [
        "for data in check_plagiarism():\n",
        "  print(\"similarity data:\\n\",data)"
      ],
      "metadata": {
        "colab": {
          "base_uri": "https://localhost:8080/"
        },
        "id": "6J1iNLeLb4QJ",
        "outputId": "8ef8b042-84ec-48f4-f99a-136adfb02795"
      },
      "execution_count": 9,
      "outputs": [
        {
          "output_type": "stream",
          "name": "stdout",
          "text": [
            "similarity data:\n",
            " ('Arthur.txt', 'Ben.txt', (0.9999999999999999, 0.4595329317649596))\n",
            "similarity data:\n",
            " ('Arthur.txt', 'Clark.txt', (1.0000000000000004, 0.5430431121089816))\n",
            "similarity data:\n",
            " ('Ben.txt', 'Clark.txt', (1.0000000000000002, 0.40890488440034695))\n",
            "similarity data:\n",
            " ('Ben.txt', 'Clark.txt', (0.9999999999999999, 0.40890488440034695))\n",
            "similarity data:\n",
            " ('Arthur.txt', 'Clark.txt', (1.0000000000000002, 0.5430431121089816))\n",
            "similarity data:\n",
            " ('Arthur.txt', 'Ben.txt', (1.0000000000000004, 0.4595329317649596))\n"
          ]
        }
      ]
    }
  ]
}